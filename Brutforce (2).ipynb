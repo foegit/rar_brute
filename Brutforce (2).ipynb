{
 "cells": [
  {
   "cell_type": "code",
   "execution_count": 1,
   "metadata": {},
   "outputs": [],
   "source": [
    "from brute import brute\n",
    "import rarfile\n",
    "import time"
   ]
  },
  {
   "cell_type": "code",
   "execution_count": 2,
   "metadata": {},
   "outputs": [],
   "source": [
    "name1=\"Variant20_1.rar\"\n",
    "name2=\"Variant20_2.rar\""
   ]
  },
  {
   "cell_type": "code",
   "execution_count": 3,
   "metadata": {},
   "outputs": [],
   "source": [
    "def bruteforce(n,name):\n",
    "    pernum=pow(52,n)\n",
    "    pastnum=0\n",
    "    start = time.time()\n",
    "    arch=rarfile.RarFile(name)\n",
    "    for s in brute(start_length = n,length=n, letters=True, numbers=False, symbols=False,spaces=False):\n",
    "        print(\"Доля отработанных вариантов:\")\n",
    "        print(pastnum,\"/\",pernum)\n",
    "        for i in range(n+1):\n",
    "            for j in range(10):\n",
    "                num=str(j)\n",
    "                tmp=\"\"\n",
    "                if i==0:\n",
    "                    tmp=num+s\n",
    "                elif i==n:\n",
    "                        tmp=s+num\n",
    "                else:\n",
    "                    tmp=s[0:i]+num+s[i:n]\n",
    "                try:\n",
    "                    arch.extractall(pwd=tmp)\n",
    "                    print(\"Правильный пароль:\")\n",
    "                    print(tmp)\n",
    "                    print(\"Время взлома:\")\n",
    "                    print(time.time()-start)\n",
    "                    return\n",
    "                except Exception as e:\n",
    "                    e\n",
    "        pastnum=pastnum+1"
   ]
  },
  {
   "cell_type": "code",
   "execution_count": null,
   "metadata": {},
   "outputs": [],
   "source": [
    "bruteforce(3,name1)\n",
    "bruteforce(4,name1)"
   ]
  }
 ],
 "metadata": {
  "kernelspec": {
   "display_name": "Python 3",
   "language": "python",
   "name": "python3"
  },
  "language_info": {
   "codemirror_mode": {
    "name": "ipython",
    "version": 3
   },
   "file_extension": ".py",
   "mimetype": "text/x-python",
   "name": "python",
   "nbconvert_exporter": "python",
   "pygments_lexer": "ipython3",
   "version": "3.7.2"
  }
 },
 "nbformat": 4,
 "nbformat_minor": 2
}
